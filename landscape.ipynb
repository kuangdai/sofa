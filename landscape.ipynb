{
 "cells": [
  {
   "cell_type": "code",
   "execution_count": 1,
   "id": "initial_id",
   "metadata": {
    "collapsed": true,
    "ExecuteTime": {
     "end_time": "2024-06-09T19:11:45.932156Z",
     "start_time": "2024-06-09T19:11:45.154906Z"
    }
   },
   "outputs": [],
   "source": [
    "import matplotlib.pyplot as plt\n",
    "import torch\n",
    "\n",
    "from pinn.geometry import compute_area\n",
    "from pinn.network import SofaNet\n",
    "\n",
    "torch.set_default_dtype(torch.float64)\n",
    "plt.rcParams['text.usetex'] = True"
   ]
  },
  {
   "cell_type": "code",
   "execution_count": 2,
   "outputs": [
    {
     "name": "stdout",
     "output_type": "stream",
     "text": [
      "2.2194768315063573\n"
     ]
    }
   ],
   "source": [
    "# load model\n",
    "model = SofaNet([128, 128, 128])\n",
    "model.load_state_dict(torch.load(\"figs/pinn_model.pt\"))\n",
    "\n",
    "# compute area\n",
    "t = torch.linspace(0, 1, 2000)\n",
    "alpha, xp, yp, dt_alpha, dt_xp, dt_yp = model.forward(t)\n",
    "area = compute_area(t, alpha, xp, yp, dt_alpha, dt_xp, dt_yp, n_areas=10000)\n",
    "print(area.item())"
   ],
   "metadata": {
    "collapsed": false,
    "ExecuteTime": {
     "end_time": "2024-06-09T19:11:46.250552Z",
     "start_time": "2024-06-09T19:11:45.933896Z"
    }
   },
   "id": "2aae0c35bf0f6706"
  },
  {
   "cell_type": "code",
   "execution_count": 3,
   "outputs": [],
   "source": [
    "# the landscapes of `area` (Jaehoon)"
   ],
   "metadata": {
    "collapsed": false,
    "ExecuteTime": {
     "end_time": "2024-06-09T19:11:46.251074Z",
     "start_time": "2024-06-09T19:11:46.249568Z"
    }
   },
   "id": "e7f156343e4561d9"
  },
  {
   "cell_type": "code",
   "execution_count": 3,
   "outputs": [],
   "source": [],
   "metadata": {
    "collapsed": false,
    "ExecuteTime": {
     "end_time": "2024-06-09T19:11:46.253982Z",
     "start_time": "2024-06-09T19:11:46.252390Z"
    }
   },
   "id": "5ae04a01f78a72fb"
  }
 ],
 "metadata": {
  "kernelspec": {
   "display_name": "Python 3",
   "language": "python",
   "name": "python3"
  },
  "language_info": {
   "codemirror_mode": {
    "name": "ipython",
    "version": 2
   },
   "file_extension": ".py",
   "mimetype": "text/x-python",
   "name": "python",
   "nbconvert_exporter": "python",
   "pygments_lexer": "ipython2",
   "version": "2.7.6"
  }
 },
 "nbformat": 4,
 "nbformat_minor": 5
}
