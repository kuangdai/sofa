{
 "cells": [
  {
   "cell_type": "code",
   "execution_count": 1,
   "id": "initial_id",
   "metadata": {
    "collapsed": true,
    "ExecuteTime": {
     "end_time": "2024-06-13T11:17:11.861621Z",
     "start_time": "2024-06-13T11:17:10.670202Z"
    }
   },
   "outputs": [],
   "source": [
    "import matplotlib.pyplot as plt\n",
    "import torch\n",
    "\n",
    "from upper.geometry import compute_area\n",
    "from upper.network import SofaNet\n",
    "\n",
    "torch.set_default_dtype(torch.float64)\n",
    "plt.rcParams['text.usetex'] = True"
   ]
  },
  {
   "cell_type": "code",
   "execution_count": 2,
   "outputs": [
    {
     "name": "stdout",
     "output_type": "stream",
     "text": [
      "2.333938505538327\n"
     ]
    }
   ],
   "source": [
    "# load model\n",
    "model = SofaNet([128, 128, 128])\n",
    "model.load_state_dict(torch.load(\"figs/data/upper_model.pt\"))\n",
    "\n",
    "# compute area\n",
    "a1 = 0.283794109  # asin(7/25)\n",
    "a2 = 0.532504098  # asin(33/65)\n",
    "a3 = 0.781214087  # asin(119/169)\n",
    "a4 = 1.03829223  # asin(56/65)\n",
    "a5 = 1.28700222  # asin(24/25)\n",
    "alpha = torch.tensor([a1, a2, a3, a4, a5])\n",
    "u1, u2 = model.forward(alpha)\n",
    "area = compute_area(alpha, torch.pi / 2, torch.pi / 2, u1, u2, n_areas=10000)\n",
    "print(area.item())"
   ],
   "metadata": {
    "collapsed": false,
    "ExecuteTime": {
     "end_time": "2024-06-13T11:17:11.886046Z",
     "start_time": "2024-06-13T11:17:11.857845Z"
    }
   },
   "id": "2aae0c35bf0f6706"
  },
  {
   "cell_type": "code",
   "execution_count": 3,
   "outputs": [],
   "source": [
    "# the landscapes of `area` (Jaehoon)\n",
    "\n",
    "# NOTE: landscape with respect to u1 and u2 instead of network weights"
   ],
   "metadata": {
    "collapsed": false,
    "ExecuteTime": {
     "end_time": "2024-06-13T11:17:11.886119Z",
     "start_time": "2024-06-13T11:17:11.876258Z"
    }
   },
   "id": "e7f156343e4561d9"
  },
  {
   "cell_type": "markdown",
   "source": [
    "u1 and u2 are intermediate nodes in the original model. We create a new NN, making u1 and u2 into network weights so current libraries for Jacobian and Hessian can work."
   ],
   "metadata": {
    "collapsed": false
   },
   "id": "7f0253c558037edd"
  },
  {
   "cell_type": "code",
   "execution_count": 4,
   "outputs": [],
   "source": [
    "nu = u1.shape[0]\n",
    "\n",
    "\n",
    "class U12Net(torch.nn.Module):\n",
    "    def __init__(self):\n",
    "        super().__init__()\n",
    "        self.fc = torch.nn.Linear(1, nu * 2, bias=False)\n",
    "        self.fc.weight.data[:nu] = u1.unsqueeze(1)\n",
    "        self.fc.weight.data[nu:] = u2.unsqueeze(1)\n",
    "\n",
    "    def forward(self):\n",
    "        x = torch.ones((1, 1))  # input must be [[1]]\n",
    "        x = self.fc(x)\n",
    "        u1_, u2_ = x.split(nu, dim=1)\n",
    "        return u1_.squeeze(1), u2_.squeeze(1)"
   ],
   "metadata": {
    "collapsed": false,
    "ExecuteTime": {
     "end_time": "2024-06-13T11:17:11.886151Z",
     "start_time": "2024-06-13T11:17:11.879664Z"
    }
   },
   "id": "98076ef41b5a002f"
  },
  {
   "cell_type": "code",
   "execution_count": 5,
   "outputs": [],
   "source": [
    "fake_model = U12Net()\n",
    "u1_net, u2_net = fake_model.forward()"
   ],
   "metadata": {
    "collapsed": false,
    "ExecuteTime": {
     "end_time": "2024-06-13T11:17:11.902872Z",
     "start_time": "2024-06-13T11:17:11.882602Z"
    }
   },
   "id": "67974393d102915f"
  },
  {
   "cell_type": "code",
   "execution_count": 6,
   "outputs": [
    {
     "name": "stdout",
     "output_type": "stream",
     "text": [
      "tensor([0.1524, 0.1331, 0.1226, 0.1035, 0.0675], grad_fn=<SqueezeBackward1>)\n",
      "tensor([[0.1524, 0.1331, 0.1226, 0.1035, 0.0675]], grad_fn=<SqueezeBackward1>)\n",
      "tensor([[0.1524],\n",
      "        [0.1331],\n",
      "        [0.1226],\n",
      "        [0.1035],\n",
      "        [0.0675]], grad_fn=<SliceBackward0>)\n",
      "tensor([0.3898, 0.6878, 0.9315, 1.1248, 1.2575], grad_fn=<SqueezeBackward1>)\n",
      "tensor([[0.3898, 0.6878, 0.9315, 1.1248, 1.2575]], grad_fn=<SqueezeBackward1>)\n",
      "tensor([[0.3898],\n",
      "        [0.6878],\n",
      "        [0.9315],\n",
      "        [1.1248],\n",
      "        [1.2575]], grad_fn=<SliceBackward0>)\n"
     ]
    }
   ],
   "source": [
    "# check they are same\n",
    "print(u1)\n",
    "print(u1_net)\n",
    "print(fake_model.fc.weight[:nu])\n",
    "\n",
    "print(u2)\n",
    "print(u2_net)\n",
    "print(fake_model.fc.weight[nu:])"
   ],
   "metadata": {
    "collapsed": false,
    "ExecuteTime": {
     "end_time": "2024-06-13T11:17:11.903705Z",
     "start_time": "2024-06-13T11:17:11.885399Z"
    }
   },
   "id": "c7ab8591e9634ec5"
  },
  {
   "cell_type": "markdown",
   "source": [
    "### Now, we can use `fake_model` to plot the landscapes"
   ],
   "metadata": {
    "collapsed": false
   },
   "id": "a4a1865413b0ea3"
  },
  {
   "cell_type": "code",
   "execution_count": 6,
   "outputs": [],
   "source": [],
   "metadata": {
    "collapsed": false,
    "ExecuteTime": {
     "end_time": "2024-06-13T11:17:11.903782Z",
     "start_time": "2024-06-13T11:17:11.890374Z"
    }
   },
   "id": "dcc4bcf41df164a3"
  }
 ],
 "metadata": {
  "kernelspec": {
   "display_name": "Python 3",
   "language": "python",
   "name": "python3"
  },
  "language_info": {
   "codemirror_mode": {
    "name": "ipython",
    "version": 2
   },
   "file_extension": ".py",
   "mimetype": "text/x-python",
   "name": "python",
   "nbconvert_exporter": "python",
   "pygments_lexer": "ipython2",
   "version": "2.7.6"
  }
 },
 "nbformat": 4,
 "nbformat_minor": 5
}
