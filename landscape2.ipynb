{
 "cells": [
  {
   "cell_type": "code",
   "execution_count": null,
   "id": "initial_id",
   "metadata": {
    "collapsed": true
   },
   "outputs": [],
   "source": [
    "import matplotlib.pyplot as plt\n",
    "import torch\n",
    "\n",
    "from upper.geometry import compute_area\n",
    "from upper.network import SofaNet\n",
    "\n",
    "torch.set_default_dtype(torch.float64)\n",
    "plt.rcParams['text.usetex'] = True"
   ]
  },
  {
   "cell_type": "code",
   "execution_count": null,
   "outputs": [],
   "source": [
    "# load model\n",
    "model = SofaNet([128, 128, 128])\n",
    "model.load_state_dict(torch.load(\"figs/upper_model.pt\"))\n",
    "\n",
    "# compute area\n",
    "a1 = 0.283794109  # asin(7/25)\n",
    "a2 = 0.532504098  # asin(33/65)\n",
    "a3 = 0.781214087  # asin(119/169)\n",
    "a4 = 1.03829223  # asin(56/65)\n",
    "a5 = 1.28700222  # asin(24/25)\n",
    "alpha = torch.tensor([a1, a2, a3, a4, a5])\n",
    "u1, u2 = model.forward(alpha)\n",
    "area = compute_area(alpha, torch.pi / 2, torch.pi / 2, u1, u2, n_areas=10000)\n",
    "print(area.item())"
   ],
   "metadata": {
    "collapsed": false
   },
   "id": "2aae0c35bf0f6706"
  },
  {
   "cell_type": "code",
   "execution_count": null,
   "outputs": [],
   "source": [
    "# the landscapes of `area` (Jaehoon)\n",
    "\n",
    "# NOTE: landscape with respect to u1 and u2 instead of network weights"
   ],
   "metadata": {
    "collapsed": false
   },
   "id": "e7f156343e4561d9"
  },
  {
   "cell_type": "code",
   "execution_count": null,
   "outputs": [],
   "source": [],
   "metadata": {
    "collapsed": false
   },
   "id": "5ae04a01f78a72fb"
  }
 ],
 "metadata": {
  "kernelspec": {
   "display_name": "Python 3",
   "language": "python",
   "name": "python3"
  },
  "language_info": {
   "codemirror_mode": {
    "name": "ipython",
    "version": 2
   },
   "file_extension": ".py",
   "mimetype": "text/x-python",
   "name": "python",
   "nbconvert_exporter": "python",
   "pygments_lexer": "ipython2",
   "version": "2.7.6"
  }
 },
 "nbformat": 4,
 "nbformat_minor": 5
}
