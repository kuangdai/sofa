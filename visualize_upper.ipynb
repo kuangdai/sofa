{
 "cells": [
  {
   "cell_type": "code",
   "execution_count": null,
   "id": "initial_id",
   "metadata": {
    "collapsed": true
   },
   "outputs": [],
   "source": [
    "import matplotlib.pyplot as plt\n",
    "import torch"
   ]
  },
  {
   "cell_type": "code",
   "execution_count": null,
   "outputs": [],
   "source": [
    "# load geometry\n",
    "gg = torch.load(\"outputs/upper_small/eq26/best_geometry.pt\")\n",
    "for key in gg.keys():\n",
    "    gg[key] = gg[key].detach()"
   ],
   "metadata": {
    "collapsed": false
   },
   "id": "2268c1f5b68fde0a"
  },
  {
   "cell_type": "code",
   "execution_count": null,
   "outputs": [],
   "source": [
    "# functions learned\n",
    "plt.plot(gg[\"alpha\"], gg[\"u1\"], c='r', label=\"u1\")\n",
    "plt.plot(gg[\"alpha\"], gg[\"u2\"], c='b', label=\"u2\")\n",
    "plt.legend()\n",
    "plt.show()"
   ],
   "metadata": {
    "collapsed": false
   },
   "id": "c5e165d977067352"
  },
  {
   "cell_type": "code",
   "execution_count": null,
   "outputs": [],
   "source": [
    "# sofa shape\n",
    "plt.figure(dpi=200)\n",
    "plt.plot(gg[\"x_sample\"], gg[\"y_sample_lower\"], c='r')\n",
    "plt.plot(gg[\"x_sample\"], gg[\"y_sample_upper\"], c='b')\n",
    "\n",
    "plt.plot(gg[f\"x_bvi\"][0], gg[f\"y_bvi\"][0], c='r')\n",
    "plt.plot(gg[f\"x_bvi\"][1], gg[f\"y_bvi\"][1], c='r')\n",
    "plt.plot(gg[f\"x_bvo\"][0], gg[f\"y_bvo\"][0], c='b')\n",
    "plt.plot(gg[f\"x_bvo\"][1], gg[f\"y_bvo\"][1], c='b')\n",
    "plt.gca().set_aspect(1.)\n",
    "plt.gca().axis(\"off\")\n",
    "\n",
    "plt.xlim(-3, 2)\n",
    "plt.ylim(-2, 2)\n",
    "plt.show()\n",
    "\n",
    "\n",
    "print(gg[\"area\"])"
   ],
   "metadata": {
    "collapsed": false
   },
   "id": "c40e73da7ede2283"
  },
  {
   "cell_type": "code",
   "execution_count": null,
   "outputs": [],
   "source": [
    "# L\n",
    "for key in [\"lvi\", \"lhi\", \"lvo\", \"lho\"]:\n",
    "    for i in range(len(gg[\"alpha\"])):\n",
    "        plt.plot(gg[f\"x_{key}\"][i], gg[f\"y_{key}\"][i])\n",
    "# butterfly\n",
    "plt.plot(gg[f\"x_bvi\"][0], gg[f\"y_bvi\"][0], c='r')\n",
    "plt.plot(gg[f\"x_bvi\"][1], gg[f\"y_bvi\"][1], c='r')\n",
    "plt.plot(gg[f\"x_bvo\"][0], gg[f\"y_bvo\"][0], c='b')\n",
    "plt.plot(gg[f\"x_bvo\"][1], gg[f\"y_bvo\"][1], c='b')\n",
    "\n",
    "plt.gca().set_aspect(1.)\n",
    "plt.gca().axis(\"off\")\n",
    "plt.xlim(-3, 3)\n",
    "plt.ylim(-2, 2)\n",
    "plt.show()"
   ],
   "metadata": {
    "collapsed": false
   },
   "id": "1b95e2f244217495"
  },
  {
   "cell_type": "code",
   "execution_count": null,
   "outputs": [],
   "source": [],
   "metadata": {
    "collapsed": false
   },
   "id": "d26547d94f46ea1e"
  }
 ],
 "metadata": {
  "kernelspec": {
   "display_name": "Python 3",
   "language": "python",
   "name": "python3"
  },
  "language_info": {
   "codemirror_mode": {
    "name": "ipython",
    "version": 2
   },
   "file_extension": ".py",
   "mimetype": "text/x-python",
   "name": "python",
   "nbconvert_exporter": "python",
   "pygments_lexer": "ipython2",
   "version": "2.7.6"
  }
 },
 "nbformat": 4,
 "nbformat_minor": 5
}
